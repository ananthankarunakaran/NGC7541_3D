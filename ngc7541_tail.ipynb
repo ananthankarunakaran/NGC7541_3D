{
 "cells": [
  {
   "cell_type": "markdown",
   "metadata": {},
   "source": [
    "# Visualizing an HI tail of an NGC 7541 dwarf satellite\n",
    "\n",
    "This simple notebook using Ipyvolume to visualize the HI emission of LS-359104-13 ([Legacy Survey Viewer link](https://www.legacysurvey.org/viewer?ra=348.6965&dec=4.6396&layer=ls-dr9&zoom=15)), a satellite dwarf galaxy of NGC 7541. As seen in Figure 5 of the paper, there clearly appears to be a ram pressure tail extending toward the south from the satellite toward the massive galaxy pair. Additionally, there is a cloud of HI gas located further south which we posit is a southern extension of the tail from the dwarf. \n",
    "\n",
    "Below, we show the HI data cube associated with the dwarf satellite, its tail and extension, along with the massive galaxy pair. Along the x- (left or right in the plane of the screen) and y-axes (up or down in the plane of the screen) are the RA and Dec. The z-axis (into or out of the screen) shows the velocity. The units of the datacube are in native pixel and spectral units. See Section 2 of the paper for more information on the data reduction and masking of the sources using SoFiA.\n",
    "\n",
    "Viewed side-on (Dec vs. Velo), the dwarf and the cloud are seemingly connected by a \"C\"-shaped trail of HI that pass \"through\" the massive galaxy pair. This 3D visualization provides more convincing envidence for the ram pressure stripping scenario of LS-359104-13 than the 2D contours alone.\n"
   ]
  },
  {
   "cell_type": "code",
   "execution_count": null,
   "metadata": {
    "tags": []
   },
   "outputs": [],
   "source": [
    "import ipyvolume as ipv\n",
    "from astropy.io import fits"
   ]
  },
  {
   "cell_type": "code",
   "execution_count": null,
   "metadata": {
    "tags": []
   },
   "outputs": [],
   "source": [
    "data = fits.getdata('NGC7541.tailsubcube.robust2.masked.fits')"
   ]
  },
  {
   "cell_type": "markdown",
   "metadata": {},
   "source": [
    "#### A few notes\n",
    "\n",
    "The data cube will start at a face-on orientation with the lowest systemic velocity channel (\\~2400 km/s, channel 104) and the highest systemic velocity channel (\\~2900 km/s, channel 1) at the \"back\" (i.e. further into the screen) of the figure.\n",
    "\n",
    "The HI emission is separated into three volumetric contours coloured (nested order) based on their intensities: red (outermost)- lowest intensity, green (middle) - intermediate intensity, and blue (innermost) - highest intensity. The preset levels and opacities were chosen to highlight the connected nature of the dwarf satellite tail and the southern extension. Moving the ``brightness`` slider to the minimum will make the contours grey/black. Users are able to comment out the first ``volshow`` call and uncomment the second one to manipulate the rendering. Specifically, they can change the ``level_width``, re-run the cell, and adjust the levels/opacities manually using the sliders.\n",
    "\n",
    "If you are unable to see all of the sliders (there should be three columns of them), try hiding the \"File Browser\" which is the Folder icon in the left panel. "
   ]
  },
  {
   "cell_type": "code",
   "execution_count": null,
   "metadata": {},
   "outputs": [],
   "source": [
    "fig = ipv.figure()\n",
    "vol = ipv.volshow(data, level=[0.07, 0.2, 0.6], opacity=[0.08, 0.05, 0.1],level_width=0.01,description='NGC7541 Field')\n",
    "\n",
    "### Adjust the level_width, comment out the line above, and re-run\n",
    "#vol = ipv.volshow(data,level_width=0.01,description='NGC7541 Field')\n",
    "\n",
    "ipv.xlabel(\"RA\")\n",
    "ipv.ylabel(\"Dec\")\n",
    "ipv.zlabel(\"Velo\")\n",
    "ipv.show()"
   ]
  },
  {
   "cell_type": "code",
   "execution_count": null,
   "metadata": {},
   "outputs": [],
   "source": []
  }
 ],
 "metadata": {
  "kernelspec": {
   "display_name": "Python 3 (ipykernel)",
   "language": "python",
   "name": "python3"
  },
  "language_info": {
   "codemirror_mode": {
    "name": "ipython",
    "version": 3
   },
   "file_extension": ".py",
   "mimetype": "text/x-python",
   "name": "python",
   "nbconvert_exporter": "python",
   "pygments_lexer": "ipython3",
   "version": "3.10.12"
  }
 },
 "nbformat": 4,
 "nbformat_minor": 4
}
